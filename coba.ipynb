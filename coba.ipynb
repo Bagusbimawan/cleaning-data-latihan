{
 "cells": [
  {
   "cell_type": "code",
   "id": "initial_id",
   "metadata": {
    "collapsed": true,
    "ExecuteTime": {
     "end_time": "2025-01-28T07:21:24.593142Z",
     "start_time": "2025-01-28T07:21:24.587401Z"
    }
   },
   "source": [
    "# print\n",
    "print(\"hello world\")"
   ],
   "outputs": [
    {
     "name": "stdout",
     "output_type": "stream",
     "text": [
      "hello world\n"
     ]
    }
   ],
   "execution_count": 1
  },
  {
   "metadata": {
    "ExecuteTime": {
     "end_time": "2025-01-28T07:22:26.304840Z",
     "start_time": "2025-01-28T07:22:26.299465Z"
    }
   },
   "cell_type": "code",
   "source": [
    "# variable\n",
    "var = 1\n",
    "print(var)"
   ],
   "id": "706c8167f9b1e971",
   "outputs": [
    {
     "name": "stdout",
     "output_type": "stream",
     "text": [
      "1\n"
     ]
    }
   ],
   "execution_count": 2
  },
  {
   "metadata": {
    "ExecuteTime": {
     "end_time": "2025-01-28T07:28:10.940525Z",
     "start_time": "2025-01-28T07:28:10.934923Z"
    }
   },
   "cell_type": "code",
   "source": [
    "# variable\n",
    "nama = \"Bagus Bimawan Sembodo\"\n",
    "nama"
   ],
   "id": "74431dd2931081b6",
   "outputs": [
    {
     "data": {
      "text/plain": [
       "'Bagus Bimawan Sembodo'"
      ]
     },
     "execution_count": 2,
     "metadata": {},
     "output_type": "execute_result"
    }
   ],
   "execution_count": 2
  },
  {
   "metadata": {
    "ExecuteTime": {
     "end_time": "2025-01-28T07:45:16.346905Z",
     "start_time": "2025-01-28T07:45:16.342908Z"
    }
   },
   "cell_type": "code",
   "source": [
    "# condition\n",
    "a = \"linux\"\n",
    "b = \"windows\"\n",
    "if a == \"linux\":\n",
    "    print(\"benar\")\n",
    "else:\n",
    "    print(\"salah\")\n",
    "\n",
    "if a == b :\n",
    "    print(\"benar\")\n",
    "else:\n",
    "    print(\"salah\")"
   ],
   "id": "b6271d7c7bd52738",
   "outputs": [
    {
     "name": "stdout",
     "output_type": "stream",
     "text": [
      "benar\n",
      "salah\n"
     ]
    }
   ],
   "execution_count": 2
  },
  {
   "metadata": {
    "ExecuteTime": {
     "end_time": "2025-01-28T08:01:02.533644Z",
     "start_time": "2025-01-28T08:01:02.530063Z"
    }
   },
   "cell_type": "code",
   "source": [
    "# function\n",
    "def Greeting(nama):\n",
    "    print(\"hello \" + nama )\n",
    "Greeting(\"Bagus\")\n",
    "Greeting(\"Arif Wicaksono\")"
   ],
   "id": "f93aab691ad5a600",
   "outputs": [
    {
     "name": "stdout",
     "output_type": "stream",
     "text": [
      "hello Bagus\n",
      "hello Arif Wicaksono\n"
     ]
    }
   ],
   "execution_count": 24
  },
  {
   "metadata": {
    "ExecuteTime": {
     "end_time": "2025-01-28T07:55:59.979647Z",
     "start_time": "2025-01-28T07:55:59.976032Z"
    }
   },
   "cell_type": "code",
   "source": [
    "# function and condition\n",
    "\n",
    "def nilai(a):\n",
    "    if a >=  90:\n",
    "        print(\"nilai anda bagus \")\n",
    "    elif a >= 80:\n",
    "        print(\"nilai anda cukup\")\n",
    "    else:\n",
    "        print(\"nilai anda kurang\")\n",
    "\n",
    "nilai(90)"
   ],
   "id": "3d0b615e4b1dec6",
   "outputs": [
    {
     "name": "stdout",
     "output_type": "stream",
     "text": [
      "nilai anda bagus \n"
     ]
    }
   ],
   "execution_count": 12
  },
  {
   "metadata": {
    "ExecuteTime": {
     "end_time": "2025-01-28T07:59:58.602945Z",
     "start_time": "2025-01-28T07:59:58.599798Z"
    }
   },
   "cell_type": "code",
   "source": [
    "# perulangan\n",
    "\n",
    "for i in range(1, 11):\n",
    "    print(i)"
   ],
   "id": "568233098a8e40a6",
   "outputs": [
    {
     "name": "stdout",
     "output_type": "stream",
     "text": [
      "1\n",
      "2\n",
      "3\n",
      "4\n",
      "5\n",
      "6\n",
      "7\n",
      "8\n",
      "9\n",
      "10\n"
     ]
    }
   ],
   "execution_count": 23
  },
  {
   "metadata": {
    "ExecuteTime": {
     "end_time": "2025-01-28T08:28:21.014192Z",
     "start_time": "2025-01-28T08:28:21.009772Z"
    }
   },
   "cell_type": "code",
   "source": [
    "# indexing\n",
    "name = \"Bagus\"\n",
    "name[0]\n",
    "name[1]\n",
    "name[2]\n",
    "name[:3]\n",
    "name[3:]\n",
    "name[2:]"
   ],
   "id": "b32787863a4a15e",
   "outputs": [
    {
     "data": {
      "text/plain": [
       "'gus'"
      ]
     },
     "execution_count": 32,
     "metadata": {},
     "output_type": "execute_result"
    }
   ],
   "execution_count": 32
  },
  {
   "metadata": {
    "ExecuteTime": {
     "end_time": "2025-01-28T09:18:12.827675Z",
     "start_time": "2025-01-28T09:18:12.822312Z"
    }
   },
   "cell_type": "code",
   "source": [
    "# list\n",
    "fruits = [\"apple\", \"banana\", \"cherry\"]\n",
    "type(fruits)\n",
    "fruits[2]\n"
   ],
   "id": "928f456c5e7df1b7",
   "outputs": [
    {
     "data": {
      "text/plain": [
       "'cherry'"
      ]
     },
     "execution_count": 4,
     "metadata": {},
     "output_type": "execute_result"
    }
   ],
   "execution_count": 4
  },
  {
   "metadata": {
    "ExecuteTime": {
     "end_time": "2025-01-28T09:22:07.471212Z",
     "start_time": "2025-01-28T09:22:07.463432Z"
    }
   },
   "cell_type": "code",
   "source": [
    "# tuple\n",
    "fruitstuple = (\"apple\", \"banana\", \"cherry\")\n",
    "fruitstuple[0]\n",
    "fruitstuple"
   ],
   "id": "3cfa98416027293d",
   "outputs": [
    {
     "data": {
      "text/plain": [
       "('apple', 'banana', 'cherry')"
      ]
     },
     "execution_count": 7,
     "metadata": {},
     "output_type": "execute_result"
    }
   ],
   "execution_count": 7
  },
  {
   "metadata": {
    "ExecuteTime": {
     "end_time": "2025-01-28T09:27:47.231417Z",
     "start_time": "2025-01-28T09:27:47.225210Z"
    }
   },
   "cell_type": "code",
   "source": [
    "# dictionary\n",
    "objek = {\"name\": \"Bagus\", \"age\": 20}\n",
    "type(objek)\n",
    "print(objek)\n",
    "objek[\"name\"]"
   ],
   "id": "1da06556fbae7023",
   "outputs": [
    {
     "name": "stdout",
     "output_type": "stream",
     "text": [
      "{'name': 'Bagus', 'age': 20}\n"
     ]
    },
    {
     "data": {
      "text/plain": [
       "'Bagus'"
      ]
     },
     "execution_count": 12,
     "metadata": {},
     "output_type": "execute_result"
    }
   ],
   "execution_count": 12
  },
  {
   "metadata": {
    "ExecuteTime": {
     "end_time": "2025-01-29T10:20:08.898884Z",
     "start_time": "2025-01-29T10:20:08.866377Z"
    }
   },
   "cell_type": "code",
   "source": [
    "import  pandas as pd\n",
    "path_file = \"/Users/macbookpro2019/Developer/Machine-Learning/machine-learning/data/apple_sales_2024.csv\"\n",
    "df = pd.read_csv(path_file)\n"
   ],
   "id": "6080561c1cc856dd",
   "outputs": [],
   "execution_count": 24
  },
  {
   "metadata": {
    "ExecuteTime": {
     "end_time": "2025-01-29T10:20:10.493879Z",
     "start_time": "2025-01-29T10:20:10.479467Z"
    }
   },
   "cell_type": "code",
   "source": "df",
   "id": "e58457d82ee6cbd5",
   "outputs": [
    {
     "data": {
      "text/plain": [
       "         State         Region  iPhone Sales (in million units)  \\\n",
       "0    Chongqing  Greater China                             7.46   \n",
       "1      Germany         Europe                             8.63   \n",
       "2           UK         Europe                             5.61   \n",
       "3     Shanghai  Greater China                             7.82   \n",
       "4     Thailand   Rest of Asia                            16.70   \n",
       "..         ...            ...                              ...   \n",
       "995     Mexico  Rest of World                            29.86   \n",
       "996      Texas  North America                            27.83   \n",
       "997    Germany         Europe                            25.47   \n",
       "998   Shenzhen  Greater China                            15.34   \n",
       "999   Shanghai  Greater China                            26.30   \n",
       "\n",
       "     iPad Sales (in million units)  Mac Sales (in million units)  \\\n",
       "0                             6.75                          1.19   \n",
       "1                            14.06                          7.03   \n",
       "2                            14.09                          8.78   \n",
       "3                             7.97                          9.78   \n",
       "4                             8.13                          6.46   \n",
       "..                             ...                           ...   \n",
       "995                          10.30                          7.40   \n",
       "996                          12.52                          8.89   \n",
       "997                           7.69                          7.90   \n",
       "998                           8.81                          8.24   \n",
       "999                           4.06                          3.41   \n",
       "\n",
       "     Wearables (in million units)  Services Revenue (in billion $)  \n",
       "0                            5.88                            15.88  \n",
       "1                            7.42                            10.12  \n",
       "2                            8.19                            19.85  \n",
       "3                            2.28                             6.16  \n",
       "4                            3.48                            13.29  \n",
       "..                            ...                              ...  \n",
       "995                          9.60                            18.56  \n",
       "996                          4.46                             6.38  \n",
       "997                          6.90                            15.00  \n",
       "998                          8.78                            15.49  \n",
       "999                          5.69                            14.29  \n",
       "\n",
       "[1000 rows x 7 columns]"
      ],
      "text/html": [
       "<div>\n",
       "<style scoped>\n",
       "    .dataframe tbody tr th:only-of-type {\n",
       "        vertical-align: middle;\n",
       "    }\n",
       "\n",
       "    .dataframe tbody tr th {\n",
       "        vertical-align: top;\n",
       "    }\n",
       "\n",
       "    .dataframe thead th {\n",
       "        text-align: right;\n",
       "    }\n",
       "</style>\n",
       "<table border=\"1\" class=\"dataframe\">\n",
       "  <thead>\n",
       "    <tr style=\"text-align: right;\">\n",
       "      <th></th>\n",
       "      <th>State</th>\n",
       "      <th>Region</th>\n",
       "      <th>iPhone Sales (in million units)</th>\n",
       "      <th>iPad Sales (in million units)</th>\n",
       "      <th>Mac Sales (in million units)</th>\n",
       "      <th>Wearables (in million units)</th>\n",
       "      <th>Services Revenue (in billion $)</th>\n",
       "    </tr>\n",
       "  </thead>\n",
       "  <tbody>\n",
       "    <tr>\n",
       "      <th>0</th>\n",
       "      <td>Chongqing</td>\n",
       "      <td>Greater China</td>\n",
       "      <td>7.46</td>\n",
       "      <td>6.75</td>\n",
       "      <td>1.19</td>\n",
       "      <td>5.88</td>\n",
       "      <td>15.88</td>\n",
       "    </tr>\n",
       "    <tr>\n",
       "      <th>1</th>\n",
       "      <td>Germany</td>\n",
       "      <td>Europe</td>\n",
       "      <td>8.63</td>\n",
       "      <td>14.06</td>\n",
       "      <td>7.03</td>\n",
       "      <td>7.42</td>\n",
       "      <td>10.12</td>\n",
       "    </tr>\n",
       "    <tr>\n",
       "      <th>2</th>\n",
       "      <td>UK</td>\n",
       "      <td>Europe</td>\n",
       "      <td>5.61</td>\n",
       "      <td>14.09</td>\n",
       "      <td>8.78</td>\n",
       "      <td>8.19</td>\n",
       "      <td>19.85</td>\n",
       "    </tr>\n",
       "    <tr>\n",
       "      <th>3</th>\n",
       "      <td>Shanghai</td>\n",
       "      <td>Greater China</td>\n",
       "      <td>7.82</td>\n",
       "      <td>7.97</td>\n",
       "      <td>9.78</td>\n",
       "      <td>2.28</td>\n",
       "      <td>6.16</td>\n",
       "    </tr>\n",
       "    <tr>\n",
       "      <th>4</th>\n",
       "      <td>Thailand</td>\n",
       "      <td>Rest of Asia</td>\n",
       "      <td>16.70</td>\n",
       "      <td>8.13</td>\n",
       "      <td>6.46</td>\n",
       "      <td>3.48</td>\n",
       "      <td>13.29</td>\n",
       "    </tr>\n",
       "    <tr>\n",
       "      <th>...</th>\n",
       "      <td>...</td>\n",
       "      <td>...</td>\n",
       "      <td>...</td>\n",
       "      <td>...</td>\n",
       "      <td>...</td>\n",
       "      <td>...</td>\n",
       "      <td>...</td>\n",
       "    </tr>\n",
       "    <tr>\n",
       "      <th>995</th>\n",
       "      <td>Mexico</td>\n",
       "      <td>Rest of World</td>\n",
       "      <td>29.86</td>\n",
       "      <td>10.30</td>\n",
       "      <td>7.40</td>\n",
       "      <td>9.60</td>\n",
       "      <td>18.56</td>\n",
       "    </tr>\n",
       "    <tr>\n",
       "      <th>996</th>\n",
       "      <td>Texas</td>\n",
       "      <td>North America</td>\n",
       "      <td>27.83</td>\n",
       "      <td>12.52</td>\n",
       "      <td>8.89</td>\n",
       "      <td>4.46</td>\n",
       "      <td>6.38</td>\n",
       "    </tr>\n",
       "    <tr>\n",
       "      <th>997</th>\n",
       "      <td>Germany</td>\n",
       "      <td>Europe</td>\n",
       "      <td>25.47</td>\n",
       "      <td>7.69</td>\n",
       "      <td>7.90</td>\n",
       "      <td>6.90</td>\n",
       "      <td>15.00</td>\n",
       "    </tr>\n",
       "    <tr>\n",
       "      <th>998</th>\n",
       "      <td>Shenzhen</td>\n",
       "      <td>Greater China</td>\n",
       "      <td>15.34</td>\n",
       "      <td>8.81</td>\n",
       "      <td>8.24</td>\n",
       "      <td>8.78</td>\n",
       "      <td>15.49</td>\n",
       "    </tr>\n",
       "    <tr>\n",
       "      <th>999</th>\n",
       "      <td>Shanghai</td>\n",
       "      <td>Greater China</td>\n",
       "      <td>26.30</td>\n",
       "      <td>4.06</td>\n",
       "      <td>3.41</td>\n",
       "      <td>5.69</td>\n",
       "      <td>14.29</td>\n",
       "    </tr>\n",
       "  </tbody>\n",
       "</table>\n",
       "<p>1000 rows × 7 columns</p>\n",
       "</div>"
      ]
     },
     "execution_count": 25,
     "metadata": {},
     "output_type": "execute_result"
    }
   ],
   "execution_count": 25
  },
  {
   "metadata": {
    "ExecuteTime": {
     "end_time": "2025-01-29T10:21:21.287312Z",
     "start_time": "2025-01-29T10:21:21.271571Z"
    }
   },
   "cell_type": "code",
   "source": "df.drop_duplicates()",
   "id": "98fbdd520a98532e",
   "outputs": [
    {
     "data": {
      "text/plain": [
       "         State         Region  iPhone Sales (in million units)  \\\n",
       "0    Chongqing  Greater China                             7.46   \n",
       "1      Germany         Europe                             8.63   \n",
       "2           UK         Europe                             5.61   \n",
       "3     Shanghai  Greater China                             7.82   \n",
       "4     Thailand   Rest of Asia                            16.70   \n",
       "..         ...            ...                              ...   \n",
       "995     Mexico  Rest of World                            29.86   \n",
       "996      Texas  North America                            27.83   \n",
       "997    Germany         Europe                            25.47   \n",
       "998   Shenzhen  Greater China                            15.34   \n",
       "999   Shanghai  Greater China                            26.30   \n",
       "\n",
       "     iPad Sales (in million units)  Mac Sales (in million units)  \\\n",
       "0                             6.75                          1.19   \n",
       "1                            14.06                          7.03   \n",
       "2                            14.09                          8.78   \n",
       "3                             7.97                          9.78   \n",
       "4                             8.13                          6.46   \n",
       "..                             ...                           ...   \n",
       "995                          10.30                          7.40   \n",
       "996                          12.52                          8.89   \n",
       "997                           7.69                          7.90   \n",
       "998                           8.81                          8.24   \n",
       "999                           4.06                          3.41   \n",
       "\n",
       "     Wearables (in million units)  Services Revenue (in billion $)  \n",
       "0                            5.88                            15.88  \n",
       "1                            7.42                            10.12  \n",
       "2                            8.19                            19.85  \n",
       "3                            2.28                             6.16  \n",
       "4                            3.48                            13.29  \n",
       "..                            ...                              ...  \n",
       "995                          9.60                            18.56  \n",
       "996                          4.46                             6.38  \n",
       "997                          6.90                            15.00  \n",
       "998                          8.78                            15.49  \n",
       "999                          5.69                            14.29  \n",
       "\n",
       "[1000 rows x 7 columns]"
      ],
      "text/html": [
       "<div>\n",
       "<style scoped>\n",
       "    .dataframe tbody tr th:only-of-type {\n",
       "        vertical-align: middle;\n",
       "    }\n",
       "\n",
       "    .dataframe tbody tr th {\n",
       "        vertical-align: top;\n",
       "    }\n",
       "\n",
       "    .dataframe thead th {\n",
       "        text-align: right;\n",
       "    }\n",
       "</style>\n",
       "<table border=\"1\" class=\"dataframe\">\n",
       "  <thead>\n",
       "    <tr style=\"text-align: right;\">\n",
       "      <th></th>\n",
       "      <th>State</th>\n",
       "      <th>Region</th>\n",
       "      <th>iPhone Sales (in million units)</th>\n",
       "      <th>iPad Sales (in million units)</th>\n",
       "      <th>Mac Sales (in million units)</th>\n",
       "      <th>Wearables (in million units)</th>\n",
       "      <th>Services Revenue (in billion $)</th>\n",
       "    </tr>\n",
       "  </thead>\n",
       "  <tbody>\n",
       "    <tr>\n",
       "      <th>0</th>\n",
       "      <td>Chongqing</td>\n",
       "      <td>Greater China</td>\n",
       "      <td>7.46</td>\n",
       "      <td>6.75</td>\n",
       "      <td>1.19</td>\n",
       "      <td>5.88</td>\n",
       "      <td>15.88</td>\n",
       "    </tr>\n",
       "    <tr>\n",
       "      <th>1</th>\n",
       "      <td>Germany</td>\n",
       "      <td>Europe</td>\n",
       "      <td>8.63</td>\n",
       "      <td>14.06</td>\n",
       "      <td>7.03</td>\n",
       "      <td>7.42</td>\n",
       "      <td>10.12</td>\n",
       "    </tr>\n",
       "    <tr>\n",
       "      <th>2</th>\n",
       "      <td>UK</td>\n",
       "      <td>Europe</td>\n",
       "      <td>5.61</td>\n",
       "      <td>14.09</td>\n",
       "      <td>8.78</td>\n",
       "      <td>8.19</td>\n",
       "      <td>19.85</td>\n",
       "    </tr>\n",
       "    <tr>\n",
       "      <th>3</th>\n",
       "      <td>Shanghai</td>\n",
       "      <td>Greater China</td>\n",
       "      <td>7.82</td>\n",
       "      <td>7.97</td>\n",
       "      <td>9.78</td>\n",
       "      <td>2.28</td>\n",
       "      <td>6.16</td>\n",
       "    </tr>\n",
       "    <tr>\n",
       "      <th>4</th>\n",
       "      <td>Thailand</td>\n",
       "      <td>Rest of Asia</td>\n",
       "      <td>16.70</td>\n",
       "      <td>8.13</td>\n",
       "      <td>6.46</td>\n",
       "      <td>3.48</td>\n",
       "      <td>13.29</td>\n",
       "    </tr>\n",
       "    <tr>\n",
       "      <th>...</th>\n",
       "      <td>...</td>\n",
       "      <td>...</td>\n",
       "      <td>...</td>\n",
       "      <td>...</td>\n",
       "      <td>...</td>\n",
       "      <td>...</td>\n",
       "      <td>...</td>\n",
       "    </tr>\n",
       "    <tr>\n",
       "      <th>995</th>\n",
       "      <td>Mexico</td>\n",
       "      <td>Rest of World</td>\n",
       "      <td>29.86</td>\n",
       "      <td>10.30</td>\n",
       "      <td>7.40</td>\n",
       "      <td>9.60</td>\n",
       "      <td>18.56</td>\n",
       "    </tr>\n",
       "    <tr>\n",
       "      <th>996</th>\n",
       "      <td>Texas</td>\n",
       "      <td>North America</td>\n",
       "      <td>27.83</td>\n",
       "      <td>12.52</td>\n",
       "      <td>8.89</td>\n",
       "      <td>4.46</td>\n",
       "      <td>6.38</td>\n",
       "    </tr>\n",
       "    <tr>\n",
       "      <th>997</th>\n",
       "      <td>Germany</td>\n",
       "      <td>Europe</td>\n",
       "      <td>25.47</td>\n",
       "      <td>7.69</td>\n",
       "      <td>7.90</td>\n",
       "      <td>6.90</td>\n",
       "      <td>15.00</td>\n",
       "    </tr>\n",
       "    <tr>\n",
       "      <th>998</th>\n",
       "      <td>Shenzhen</td>\n",
       "      <td>Greater China</td>\n",
       "      <td>15.34</td>\n",
       "      <td>8.81</td>\n",
       "      <td>8.24</td>\n",
       "      <td>8.78</td>\n",
       "      <td>15.49</td>\n",
       "    </tr>\n",
       "    <tr>\n",
       "      <th>999</th>\n",
       "      <td>Shanghai</td>\n",
       "      <td>Greater China</td>\n",
       "      <td>26.30</td>\n",
       "      <td>4.06</td>\n",
       "      <td>3.41</td>\n",
       "      <td>5.69</td>\n",
       "      <td>14.29</td>\n",
       "    </tr>\n",
       "  </tbody>\n",
       "</table>\n",
       "<p>1000 rows × 7 columns</p>\n",
       "</div>"
      ]
     },
     "execution_count": 27,
     "metadata": {},
     "output_type": "execute_result"
    }
   ],
   "execution_count": 27
  },
  {
   "metadata": {
    "ExecuteTime": {
     "end_time": "2025-01-29T10:40:04.843251Z",
     "start_time": "2025-01-29T10:40:04.774745Z"
    }
   },
   "cell_type": "code",
   "source": "df.dropna()",
   "id": "13a846f13c23b90d",
   "outputs": [
    {
     "data": {
      "text/plain": [
       "         State         Region  iPhone Sales (in million units)  \\\n",
       "0    Chongqing  Greater China                             7.46   \n",
       "1      Germany         Europe                             8.63   \n",
       "2           UK         Europe                             5.61   \n",
       "3     Shanghai  Greater China                             7.82   \n",
       "4     Thailand   Rest of Asia                            16.70   \n",
       "..         ...            ...                              ...   \n",
       "995     Mexico  Rest of World                            29.86   \n",
       "996      Texas  North America                            27.83   \n",
       "997    Germany         Europe                            25.47   \n",
       "998   Shenzhen  Greater China                            15.34   \n",
       "999   Shanghai  Greater China                            26.30   \n",
       "\n",
       "     iPad Sales (in million units)  Mac Sales (in million units)  \\\n",
       "0                             6.75                          1.19   \n",
       "1                            14.06                          7.03   \n",
       "2                            14.09                          8.78   \n",
       "3                             7.97                          9.78   \n",
       "4                             8.13                          6.46   \n",
       "..                             ...                           ...   \n",
       "995                          10.30                          7.40   \n",
       "996                          12.52                          8.89   \n",
       "997                           7.69                          7.90   \n",
       "998                           8.81                          8.24   \n",
       "999                           4.06                          3.41   \n",
       "\n",
       "     Wearables (in million units)  Services Revenue (in billion $)  \n",
       "0                            5.88                            15.88  \n",
       "1                            7.42                            10.12  \n",
       "2                            8.19                            19.85  \n",
       "3                            2.28                             6.16  \n",
       "4                            3.48                            13.29  \n",
       "..                            ...                              ...  \n",
       "995                          9.60                            18.56  \n",
       "996                          4.46                             6.38  \n",
       "997                          6.90                            15.00  \n",
       "998                          8.78                            15.49  \n",
       "999                          5.69                            14.29  \n",
       "\n",
       "[1000 rows x 7 columns]"
      ],
      "text/html": [
       "<div>\n",
       "<style scoped>\n",
       "    .dataframe tbody tr th:only-of-type {\n",
       "        vertical-align: middle;\n",
       "    }\n",
       "\n",
       "    .dataframe tbody tr th {\n",
       "        vertical-align: top;\n",
       "    }\n",
       "\n",
       "    .dataframe thead th {\n",
       "        text-align: right;\n",
       "    }\n",
       "</style>\n",
       "<table border=\"1\" class=\"dataframe\">\n",
       "  <thead>\n",
       "    <tr style=\"text-align: right;\">\n",
       "      <th></th>\n",
       "      <th>State</th>\n",
       "      <th>Region</th>\n",
       "      <th>iPhone Sales (in million units)</th>\n",
       "      <th>iPad Sales (in million units)</th>\n",
       "      <th>Mac Sales (in million units)</th>\n",
       "      <th>Wearables (in million units)</th>\n",
       "      <th>Services Revenue (in billion $)</th>\n",
       "    </tr>\n",
       "  </thead>\n",
       "  <tbody>\n",
       "    <tr>\n",
       "      <th>0</th>\n",
       "      <td>Chongqing</td>\n",
       "      <td>Greater China</td>\n",
       "      <td>7.46</td>\n",
       "      <td>6.75</td>\n",
       "      <td>1.19</td>\n",
       "      <td>5.88</td>\n",
       "      <td>15.88</td>\n",
       "    </tr>\n",
       "    <tr>\n",
       "      <th>1</th>\n",
       "      <td>Germany</td>\n",
       "      <td>Europe</td>\n",
       "      <td>8.63</td>\n",
       "      <td>14.06</td>\n",
       "      <td>7.03</td>\n",
       "      <td>7.42</td>\n",
       "      <td>10.12</td>\n",
       "    </tr>\n",
       "    <tr>\n",
       "      <th>2</th>\n",
       "      <td>UK</td>\n",
       "      <td>Europe</td>\n",
       "      <td>5.61</td>\n",
       "      <td>14.09</td>\n",
       "      <td>8.78</td>\n",
       "      <td>8.19</td>\n",
       "      <td>19.85</td>\n",
       "    </tr>\n",
       "    <tr>\n",
       "      <th>3</th>\n",
       "      <td>Shanghai</td>\n",
       "      <td>Greater China</td>\n",
       "      <td>7.82</td>\n",
       "      <td>7.97</td>\n",
       "      <td>9.78</td>\n",
       "      <td>2.28</td>\n",
       "      <td>6.16</td>\n",
       "    </tr>\n",
       "    <tr>\n",
       "      <th>4</th>\n",
       "      <td>Thailand</td>\n",
       "      <td>Rest of Asia</td>\n",
       "      <td>16.70</td>\n",
       "      <td>8.13</td>\n",
       "      <td>6.46</td>\n",
       "      <td>3.48</td>\n",
       "      <td>13.29</td>\n",
       "    </tr>\n",
       "    <tr>\n",
       "      <th>...</th>\n",
       "      <td>...</td>\n",
       "      <td>...</td>\n",
       "      <td>...</td>\n",
       "      <td>...</td>\n",
       "      <td>...</td>\n",
       "      <td>...</td>\n",
       "      <td>...</td>\n",
       "    </tr>\n",
       "    <tr>\n",
       "      <th>995</th>\n",
       "      <td>Mexico</td>\n",
       "      <td>Rest of World</td>\n",
       "      <td>29.86</td>\n",
       "      <td>10.30</td>\n",
       "      <td>7.40</td>\n",
       "      <td>9.60</td>\n",
       "      <td>18.56</td>\n",
       "    </tr>\n",
       "    <tr>\n",
       "      <th>996</th>\n",
       "      <td>Texas</td>\n",
       "      <td>North America</td>\n",
       "      <td>27.83</td>\n",
       "      <td>12.52</td>\n",
       "      <td>8.89</td>\n",
       "      <td>4.46</td>\n",
       "      <td>6.38</td>\n",
       "    </tr>\n",
       "    <tr>\n",
       "      <th>997</th>\n",
       "      <td>Germany</td>\n",
       "      <td>Europe</td>\n",
       "      <td>25.47</td>\n",
       "      <td>7.69</td>\n",
       "      <td>7.90</td>\n",
       "      <td>6.90</td>\n",
       "      <td>15.00</td>\n",
       "    </tr>\n",
       "    <tr>\n",
       "      <th>998</th>\n",
       "      <td>Shenzhen</td>\n",
       "      <td>Greater China</td>\n",
       "      <td>15.34</td>\n",
       "      <td>8.81</td>\n",
       "      <td>8.24</td>\n",
       "      <td>8.78</td>\n",
       "      <td>15.49</td>\n",
       "    </tr>\n",
       "    <tr>\n",
       "      <th>999</th>\n",
       "      <td>Shanghai</td>\n",
       "      <td>Greater China</td>\n",
       "      <td>26.30</td>\n",
       "      <td>4.06</td>\n",
       "      <td>3.41</td>\n",
       "      <td>5.69</td>\n",
       "      <td>14.29</td>\n",
       "    </tr>\n",
       "  </tbody>\n",
       "</table>\n",
       "<p>1000 rows × 7 columns</p>\n",
       "</div>"
      ]
     },
     "execution_count": 28,
     "metadata": {},
     "output_type": "execute_result"
    }
   ],
   "execution_count": 28
  },
  {
   "metadata": {},
   "cell_type": "code",
   "outputs": [],
   "execution_count": null,
   "source": "",
   "id": "9bc9776339284fd4"
  }
 ],
 "metadata": {
  "kernelspec": {
   "display_name": "Python 3",
   "language": "python",
   "name": "python3"
  },
  "language_info": {
   "codemirror_mode": {
    "name": "ipython",
    "version": 2
   },
   "file_extension": ".py",
   "mimetype": "text/x-python",
   "name": "python",
   "nbconvert_exporter": "python",
   "pygments_lexer": "ipython2",
   "version": "2.7.6"
  }
 },
 "nbformat": 4,
 "nbformat_minor": 5
}
